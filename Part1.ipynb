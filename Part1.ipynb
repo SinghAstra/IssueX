{
 "cells": [
  {
   "cell_type": "markdown",
   "metadata": {},
   "source": [
    "# Linear Algebra\n",
    "\n",
    "In order to solve linear equations we can use the substitution method or elimination method.\n",
    "\n",
    "- Graphical Method\n",
    "  $$\n",
    "  \\begin{aligned}\n",
    "  2x - y &= 0 \\\\\n",
    "  x + 2y &= 3\n",
    "  \\end{aligned}\n",
    "  $$\n",
    "\n",
    "  In order to solve these equations we can plot them on graph and intersecting point will be the answer.\n"
   ]
  },
  {
   "cell_type": "code",
   "execution_count": null,
   "metadata": {},
   "outputs": [],
   "source": [
    "import numpy as np\n",
    "import matplotlib.pyplot as plt\n",
    "\n",
    "# Define the equations as functions of x\n",
    "def eq1(x):\n",
    "    return 2 * x\n",
    "\n",
    "def eq2(x):\n",
    "    return (3 - x) / 2\n",
    "\n",
    "# Generate x values\n",
    "x_values = np.linspace(-10, -5, 0,5,10)\n",
    "\n",
    "# Plot both equations\n",
    "plt.plot(x_values, eq1(x_values), label=\"2x - y = 0\")\n",
    "plt.plot(x_values, eq2(x_values), label=\"x + 2y = 3\")\n",
    "\n",
    "# Set labels and title\n",
    "plt.xlabel('x')\n",
    "plt.ylabel('y')\n",
    "plt.title('Graphical Method for Solving Linear Equations')\n",
    "plt.axhline(0, color='black',linewidth=0.5)\n",
    "plt.axvline(0, color='black',linewidth=0.5)\n",
    "\n",
    "# Add grid and legend\n",
    "plt.grid(True)\n",
    "plt.legend()\n",
    "\n",
    "# Show the plot\n",
    "plt.show()\n"
   ]
  }
 ],
 "metadata": {
  "language_info": {
   "name": "python"
  }
 },
 "nbformat": 4,
 "nbformat_minor": 2
}
